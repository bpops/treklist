{
 "cells": [
  {
   "cell_type": "code",
   "execution_count": 7,
   "metadata": {},
   "outputs": [],
   "source": [
    "import omdb\n",
    "import sqlite3\n",
    "import pandas as pd\n",
    "import os\n",
    "\n",
    "# first read in OMDB python key\n",
    "with open('api_key') as f:\n",
    "    lines = f.readlines()\n",
    "api_key = lines[0]\n",
    "omdb.set_default('apikey', api_key)\n"
   ]
  },
  {
   "cell_type": "code",
   "execution_count": 2,
   "metadata": {},
   "outputs": [],
   "source": [
    "# set acronyms\n",
    "st = {'tos': {'title': 'The Original Series', 'imdbid': 'tt0060028'},\n",
    "      'tas': {'title': 'The Animated Series', 'imdbid': 'tt0069637'},\n",
    "      'tng': {'title': 'The Next Generation', 'imdbid': 'tt0092455'},\n",
    "      'ds9': {'title': 'Deep Space Nine',     'imdbid': 'tt0106145'},\n",
    "      'voy': {'title': 'Voyager',             'imdbid': 'tt0112178'},\n",
    "      'ent': {'title': 'Enterprise',          'imdbid': 'tt0244365'},\n",
    "      'dis': {'title': 'Discovery',           'imdbid': 'tt5171438'},\n",
    "      'sho': {'title': 'Short Treks',         'imdbid': 'tt9059594'},\n",
    "      'pic': {'title': 'Picard',              'imdbid': 'tt8806524'},\n",
    "      'lds': {'title': 'Lower Decks',         'imdbid': 'tt9184820'},\n",
    "      'pro': {'title': 'Prodigy',             'imdbid': 'tt9795876'},\n",
    "      'snw': {'title': 'Strange New Worlds',  'imdbid': 'tt12327578'},\n",
    "      } "
   ]
  },
  {
   "cell_type": "code",
   "execution_count": 9,
   "metadata": {},
   "outputs": [
    {
     "name": "stdout",
     "output_type": "stream",
     "text": [
      "    abb                           title       year  total_seasons  rated\n",
      "0   tos                       Star Trek  1966–1969              3  TV-PG\n",
      "1   tas  Star Trek: The Animated Series  1973–1975              2  TV-Y7\n",
      "2   tng  Star Trek: The Next Generation  1987–1994              7  TV-PG\n",
      "3   ds9      Star Trek: Deep Space Nine  1993–1999              7  TV-PG\n",
      "4   voy              Star Trek: Voyager  1995–2001              7  TV-PG\n",
      "5   ent           Star Trek: Enterprise  2001–2005              4  TV-PG\n",
      "6   dis            Star Trek: Discovery      2017–              5  TV-14\n",
      "7   sho          Star Trek: Short Treks      2018–              2  TV-PG\n",
      "8   pic               Star Trek: Picard      2020–              3  TV-MA\n",
      "9   lds          Star Trek: Lower Decks      2020–              3  TV-14\n",
      "10  pro              Star Trek: Prodigy      2021–              1  TV-Y7\n",
      "11  snw   Star Trek: Strange New Worlds      2022–              1    N/A\n"
     ]
    }
   ],
   "source": [
    "db_filename = \"treklist.db\"\n",
    "\n",
    "# delete current database\n",
    "os.remove(db_filename)\n",
    "\n",
    "# make omdb requests for series\n",
    "conn = sqlite3.connect(db_filename)\n",
    "curs = conn.cursor()\n",
    "conn.execute(\"DROP TABLE IF EXISTS series\")\n",
    "conn.execute(\"CREATE TABLE series (abb TEXT, title TEXT, year TEXT, total_seasons INTEGER, rated TEXT)\")\n",
    "for key in st.keys():\n",
    "    res = omdb.imdbid(st[key]['imdbid'])\n",
    "    cmd = \"INSERT INTO series (abb, title, year, total_seasons, rated) VALUES \" + \\\n",
    "         f\"('{key}', '{res['title']}', '{res['year']}', {res['total_seasons']}, '{res['rated']}');\"\n",
    "    curs.execute(cmd)\n",
    "\n",
    "df = pd.read_sql_query(\"SELECT * FROM series\", conn)\n",
    "print(df)"
   ]
  }
 ],
 "metadata": {
  "interpreter": {
   "hash": "cf52f0261190c1808c33d56d55f099b4603504b0942f5d275c1000c76b443b1d"
  },
  "kernelspec": {
   "display_name": "Python 3.9.10 ('venv')",
   "language": "python",
   "name": "python3"
  },
  "language_info": {
   "codemirror_mode": {
    "name": "ipython",
    "version": 3
   },
   "file_extension": ".py",
   "mimetype": "text/x-python",
   "name": "python",
   "nbconvert_exporter": "python",
   "pygments_lexer": "ipython3",
   "version": "3.9.12"
  },
  "orig_nbformat": 4
 },
 "nbformat": 4,
 "nbformat_minor": 2
}
