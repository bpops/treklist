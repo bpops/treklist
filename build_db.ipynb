{
 "cells": [
  {
   "cell_type": "code",
   "execution_count": 43,
   "metadata": {},
   "outputs": [],
   "source": [
    "import omdb\n",
    "import sqlite3\n",
    "import pandas as pd\n",
    "import os\n",
    "import requests\n",
    "import shutil\n",
    "import io\n",
    "import PIL.Image as Image\n",
    "\n",
    "# first read in OMDB python key\n",
    "with open('api_key') as f:\n",
    "    lines = f.readlines()\n",
    "api_key = lines[0]\n",
    "omdb.set_default('apikey', api_key)\n"
   ]
  },
  {
   "cell_type": "code",
   "execution_count": 2,
   "metadata": {},
   "outputs": [],
   "source": [
    "# set acronyms\n",
    "st = {'tos': {'title': 'The Original Series', 'imdbid': 'tt0060028'},\n",
    "      'tas': {'title': 'The Animated Series', 'imdbid': 'tt0069637'},\n",
    "      'tng': {'title': 'The Next Generation', 'imdbid': 'tt0092455'},\n",
    "      'ds9': {'title': 'Deep Space Nine',     'imdbid': 'tt0106145'},\n",
    "      'voy': {'title': 'Voyager',             'imdbid': 'tt0112178'},\n",
    "      'ent': {'title': 'Enterprise',          'imdbid': 'tt0244365'},\n",
    "      'dis': {'title': 'Discovery',           'imdbid': 'tt5171438'},\n",
    "      'sho': {'title': 'Short Treks',         'imdbid': 'tt9059594'},\n",
    "      'pic': {'title': 'Picard',              'imdbid': 'tt8806524'},\n",
    "      'lds': {'title': 'Lower Decks',         'imdbid': 'tt9184820'},\n",
    "      'pro': {'title': 'Prodigy',             'imdbid': 'tt9795876'},\n",
    "      'snw': {'title': 'Strange New Worlds',  'imdbid': 'tt12327578'},\n",
    "      } "
   ]
  },
  {
   "cell_type": "code",
   "execution_count": 28,
   "metadata": {},
   "outputs": [
    {
     "name": "stdout",
     "output_type": "stream",
     "text": [
      "    abb                           title     imdb_id       year  total_seasons  \\\n",
      "0   tos                       Star Trek   tt0060028  1966–1969              3   \n",
      "1   tas  Star Trek: The Animated Series   tt0069637  1973–1975              2   \n",
      "2   tng  Star Trek: The Next Generation   tt0092455  1987–1994              7   \n",
      "3   ds9      Star Trek: Deep Space Nine   tt0106145  1993–1999              7   \n",
      "4   voy              Star Trek: Voyager   tt0112178  1995–2001              7   \n",
      "5   ent           Star Trek: Enterprise   tt0244365  2001–2005              4   \n",
      "6   dis            Star Trek: Discovery   tt5171438      2017–              5   \n",
      "7   sho          Star Trek: Short Treks   tt9059594      2018–              2   \n",
      "8   pic               Star Trek: Picard   tt8806524      2020–              3   \n",
      "9   lds          Star Trek: Lower Decks   tt9184820      2020–              3   \n",
      "10  pro              Star Trek: Prodigy   tt9795876      2021–              1   \n",
      "11  snw   Star Trek: Strange New Worlds  tt12327578      2022–              1   \n",
      "\n",
      "                                               poster  rated  \n",
      "0   b'\\xff\\xd8\\xff\\xe0\\x00\\x10JFIF\\x00\\x01\\x01\\x00...  TV-PG  \n",
      "1   b'\\xff\\xd8\\xff\\xe0\\x00\\x10JFIF\\x00\\x01\\x01\\x00...  TV-Y7  \n",
      "2   b'\\xff\\xd8\\xff\\xe0\\x00\\x10JFIF\\x00\\x01\\x01\\x00...  TV-PG  \n",
      "3   b'\\xff\\xd8\\xff\\xe0\\x00\\x10JFIF\\x00\\x01\\x01\\x00...  TV-PG  \n",
      "4   b'\\xff\\xd8\\xff\\xe0\\x00\\x10JFIF\\x00\\x01\\x01\\x00...  TV-PG  \n",
      "5   b'\\xff\\xd8\\xff\\xe0\\x00\\x10JFIF\\x00\\x01\\x01\\x00...  TV-PG  \n",
      "6   b'\\xff\\xd8\\xff\\xe0\\x00\\x10JFIF\\x00\\x01\\x01\\x00...  TV-14  \n",
      "7   b'\\xff\\xd8\\xff\\xe0\\x00\\x10JFIF\\x00\\x01\\x01\\x00...  TV-PG  \n",
      "8   b'\\xff\\xd8\\xff\\xe0\\x00\\x10JFIF\\x00\\x01\\x01\\x00...  TV-MA  \n",
      "9   b'\\xff\\xd8\\xff\\xe0\\x00\\x10JFIF\\x00\\x01\\x01\\x00...  TV-14  \n",
      "10  b'\\xff\\xd8\\xff\\xe0\\x00\\x10JFIF\\x00\\x01\\x01\\x00...  TV-Y7  \n",
      "11  b'\\xff\\xd8\\xff\\xe0\\x00\\x10JFIF\\x00\\x01\\x01\\x00...    N/A  \n"
     ]
    }
   ],
   "source": [
    "db_filename = \"treklist.db\"\n",
    "\n",
    "# delete current database\n",
    "os.remove(db_filename)\n",
    "\n",
    "# make omdb requests for series\n",
    "conn = sqlite3.connect(db_filename)\n",
    "curs = conn.cursor()\n",
    "conn.execute(\"DROP TABLE IF EXISTS series\")\n",
    "conn.execute(\"CREATE TABLE series (abb TEXT, title TEXT, imdb_id TEXT, year TEXT, total_seasons INTEGER, poster BLOB, rated TEXT)\")\n",
    "for key in st.keys():\n",
    "    res = omdb.imdbid(st[key]['imdbid'])\n",
    "    img = requests.get(res['poster'], stream=True)\n",
    "\n",
    "    cmd = \"INSERT INTO series (abb, title, imdb_id, year, total_seasons, poster, rated) VALUES \" + \\\n",
    "         f\"('{key}', '{res['title']}', '{res['imdb_id']}', '{res['year']}', {res['total_seasons']}, ?, '{res['rated']}');\"\n",
    "    curs.execute(cmd, [sqlite3.Binary(img.content)])\n",
    "    conn.commit()\n",
    "\n",
    "    # insert poster\n",
    "    #cmd = f\"UPDATE series SET poster = ? WHERE imdb_id = {res['imdb_id']}\"\n",
    "    #with open('test.jpg','wb') as f:\n",
    "    #    shutil.copyfileobj(img.raw, f)\n",
    "    #curs.execute(cmd, )\n",
    "\n",
    "df = pd.read_sql_query(\"SELECT * FROM series\", conn)\n",
    "print(df)"
   ]
  },
  {
   "cell_type": "code",
   "execution_count": 9,
   "metadata": {},
   "outputs": [],
   "source": [
    "for key in st.keys():\n",
    "    conn.execute(f\"DROP TABLE IF EXISTS {key}\")\n",
    "    conn.execute(f\"CREATE TABLE {key} (season INTEGER, episode INTEGER, title TEXT)\")"
   ]
  },
  {
   "cell_type": "code",
   "execution_count": 47,
   "metadata": {},
   "outputs": [],
   "source": [
    "\n",
    "curs.execute(\"SELECT * FROM series WHERE imdb_id = 'tt0106145'\")\n",
    "record = curs.fetchall()\n",
    "image = Image.open(io.BytesIO(record[0][5]))\n",
    "image.show()"
   ]
  },
  {
   "cell_type": "code",
   "execution_count": 39,
   "metadata": {},
   "outputs": [
    {
     "ename": "AttributeError",
     "evalue": "'tuple' object has no attribute 'keys'",
     "output_type": "error",
     "traceback": [
      "\u001b[0;31m---------------------------------------------------------------------------\u001b[0m",
      "\u001b[0;31mAttributeError\u001b[0m                            Traceback (most recent call last)",
      "\u001b[1;32m/Users/bbudden/repos/treklist/build_db.ipynb Cell 6'\u001b[0m in \u001b[0;36m<cell line: 1>\u001b[0;34m()\u001b[0m\n\u001b[0;32m----> <a href='vscode-notebook-cell:/Users/bbudden/repos/treklist/build_db.ipynb#ch0000007?line=0'>1</a>\u001b[0m record[\u001b[39m0\u001b[39;49m]\u001b[39m.\u001b[39;49mkeys()\n",
      "\u001b[0;31mAttributeError\u001b[0m: 'tuple' object has no attribute 'keys'"
     ]
    }
   ],
   "source": [
    "record[0].keys()\n",
    "#res = omdb.imdbid(st['tos']['imdbid'])\n",
    "#print(res)"
   ]
  }
 ],
 "metadata": {
  "interpreter": {
   "hash": "cf52f0261190c1808c33d56d55f099b4603504b0942f5d275c1000c76b443b1d"
  },
  "kernelspec": {
   "display_name": "Python 3.9.10 ('venv')",
   "language": "python",
   "name": "python3"
  },
  "language_info": {
   "codemirror_mode": {
    "name": "ipython",
    "version": 3
   },
   "file_extension": ".py",
   "mimetype": "text/x-python",
   "name": "python",
   "nbconvert_exporter": "python",
   "pygments_lexer": "ipython3",
   "version": "3.9.12"
  },
  "orig_nbformat": 4
 },
 "nbformat": 4,
 "nbformat_minor": 2
}
